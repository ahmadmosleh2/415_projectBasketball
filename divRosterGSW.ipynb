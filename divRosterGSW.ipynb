{
 "cells": [
  {
   "cell_type": "code",
   "execution_count": 1,
   "id": "9886eb94-013a-44a2-8779-07e318b1a735",
   "metadata": {
    "scrolled": true
   },
   "outputs": [
    {
     "name": "stderr",
     "output_type": "stream",
     "text": [
      "C:\\Users\\Ahmad\\AppData\\Local\\Temp\\ipykernel_23324\\1776465405.py:10: FutureWarning: Passing literal html to 'read_html' is deprecated and will be removed in a future version. To read from a literal string, wrap it in a 'StringIO' object.\n",
      "  gsw = pd.read_html(str(tvop_table))[0]\n",
      "C:\\Users\\Ahmad\\AppData\\Local\\Temp\\ipykernel_23324\\1776465405.py:10: FutureWarning: Passing literal html to 'read_html' is deprecated and will be removed in a future version. To read from a literal string, wrap it in a 'StringIO' object.\n",
      "  gsw = pd.read_html(str(tvop_table))[0]\n",
      "C:\\Users\\Ahmad\\AppData\\Local\\Temp\\ipykernel_23324\\1776465405.py:10: FutureWarning: Passing literal html to 'read_html' is deprecated and will be removed in a future version. To read from a literal string, wrap it in a 'StringIO' object.\n",
      "  gsw = pd.read_html(str(tvop_table))[0]\n",
      "C:\\Users\\Ahmad\\AppData\\Local\\Temp\\ipykernel_23324\\1776465405.py:10: FutureWarning: Passing literal html to 'read_html' is deprecated and will be removed in a future version. To read from a literal string, wrap it in a 'StringIO' object.\n",
      "  gsw = pd.read_html(str(tvop_table))[0]\n",
      "C:\\Users\\Ahmad\\AppData\\Local\\Temp\\ipykernel_23324\\1776465405.py:10: FutureWarning: Passing literal html to 'read_html' is deprecated and will be removed in a future version. To read from a literal string, wrap it in a 'StringIO' object.\n",
      "  gsw = pd.read_html(str(tvop_table))[0]\n",
      "C:\\Users\\Ahmad\\AppData\\Local\\Temp\\ipykernel_23324\\1776465405.py:10: FutureWarning: Passing literal html to 'read_html' is deprecated and will be removed in a future version. To read from a literal string, wrap it in a 'StringIO' object.\n",
      "  gsw = pd.read_html(str(tvop_table))[0]\n",
      "C:\\Users\\Ahmad\\AppData\\Local\\Temp\\ipykernel_23324\\1776465405.py:10: FutureWarning: Passing literal html to 'read_html' is deprecated and will be removed in a future version. To read from a literal string, wrap it in a 'StringIO' object.\n",
      "  gsw = pd.read_html(str(tvop_table))[0]\n",
      "C:\\Users\\Ahmad\\AppData\\Local\\Temp\\ipykernel_23324\\1776465405.py:10: FutureWarning: Passing literal html to 'read_html' is deprecated and will be removed in a future version. To read from a literal string, wrap it in a 'StringIO' object.\n",
      "  gsw = pd.read_html(str(tvop_table))[0]\n",
      "C:\\Users\\Ahmad\\AppData\\Local\\Temp\\ipykernel_23324\\1776465405.py:10: FutureWarning: Passing literal html to 'read_html' is deprecated and will be removed in a future version. To read from a literal string, wrap it in a 'StringIO' object.\n",
      "  gsw = pd.read_html(str(tvop_table))[0]\n",
      "C:\\Users\\Ahmad\\AppData\\Local\\Temp\\ipykernel_23324\\1776465405.py:10: FutureWarning: Passing literal html to 'read_html' is deprecated and will be removed in a future version. To read from a literal string, wrap it in a 'StringIO' object.\n",
      "  gsw = pd.read_html(str(tvop_table))[0]\n",
      "C:\\Users\\Ahmad\\AppData\\Local\\Temp\\ipykernel_23324\\1776465405.py:10: FutureWarning: Passing literal html to 'read_html' is deprecated and will be removed in a future version. To read from a literal string, wrap it in a 'StringIO' object.\n",
      "  gsw = pd.read_html(str(tvop_table))[0]\n"
     ]
    }
   ],
   "source": [
    "\n",
    "import pandas as pd\n",
    "from bs4 import BeautifulSoup\n",
    "years = list(range(2010,2021))\n",
    "dfs = []\n",
    "for year in years:\n",
    "    with open(\"GSW_HTML/{}.html\".format(year), \"rb\") as f:\n",
    "        page = f.read()\n",
    "    soup = BeautifulSoup(page, \"html.parser\")\n",
    "    tvop_table = soup.find(id=\"div_roster\")\n",
    "    gsw = pd.read_html(str(tvop_table))[0]\n",
    "    gsw[\"year\"] = year\n",
    "\n",
    "    dfs.append(gsw)\n",
    "\n",
    "# Concatenate all DataFrames into a single DataFrame\n",
    "final_df = pd.concat(dfs, ignore_index=True)\n",
    "\n",
    "# Save the concatenated DataFrame to a CSV file\n",
    "final_df.to_csv(\"gsw_div_roster.csv\", index=False)\n"
   ]
  },
  {
   "cell_type": "code",
   "execution_count": null,
   "id": "a50060fd-a06c-4dab-8270-facd6a834e55",
   "metadata": {},
   "outputs": [],
   "source": []
  }
 ],
 "metadata": {
  "kernelspec": {
   "display_name": "Python 3 (ipykernel)",
   "language": "python",
   "name": "python3"
  },
  "language_info": {
   "codemirror_mode": {
    "name": "ipython",
    "version": 3
   },
   "file_extension": ".py",
   "mimetype": "text/x-python",
   "name": "python",
   "nbconvert_exporter": "python",
   "pygments_lexer": "ipython3",
   "version": "3.11.5"
  }
 },
 "nbformat": 4,
 "nbformat_minor": 5
}
