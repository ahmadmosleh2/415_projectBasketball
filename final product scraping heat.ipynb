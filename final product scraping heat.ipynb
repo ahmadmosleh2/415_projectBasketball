{
 "cells": [
  {
   "cell_type": "code",
   "execution_count": 14,
   "id": "b6329722-c05c-4c38-aabf-5faba992c49f",
   "metadata": {},
   "outputs": [],
   "source": [
    "'''\n",
    "from selenium import webdriver\n",
    "from selenium.webdriver.chrome.options import Options\n",
    "from selenium.webdriver.common.by import By\n",
    "from selenium.webdriver.support.ui import WebDriverWait\n",
    "from selenium.webdriver.support import expected_conditions as EC\n",
    "import requests\n",
    "\n",
    "# Set up Selenium Chrome options\n",
    "chrome_options = Options()\n",
    "chrome_options.add_argument(\"--headless\")  # Run Chrome in headless mode\n",
    "\n",
    "years = list(range(2010,2021))\n",
    "url_start = \"https://www.basketball-reference.com/teams/MIA/{}.html\"\n",
    "\n",
    "for year in years:\n",
    "    url = url_start.format(year)\n",
    "\n",
    "    # Use Selenium to load the page with JavaScript rendering\n",
    "    driver = webdriver.Chrome(options=chrome_options)\n",
    "    driver.get(url)\n",
    "\n",
    "    # Wait for the page to load (adjust the timeout as needed)\n",
    "    WebDriverWait(driver, timeout=10).until(\n",
    "        EC.presence_of_element_located((By.ID, \"per_game\"))\n",
    "    )\n",
    "\n",
    "    # Get the page source after JavaScript has rendered\n",
    "    page_source = driver.page_source\n",
    "\n",
    "    # Save the HTML content\n",
    "    with open(\"HEAT_HTML/{}.html\".format(year), \"w\", encoding=\"utf-8\") as f:\n",
    "        f.write(page_source)\n",
    "\n",
    "    # Close the Selenium WebDriver\n",
    "    driver.quit()\n",
    "    '''"
   ]
  },
  {
   "cell_type": "code",
   "execution_count": 17,
   "id": "9886eb94-013a-44a2-8779-07e318b1a735",
   "metadata": {
    "scrolled": true
   },
   "outputs": [
    {
     "name": "stderr",
     "output_type": "stream",
     "text": [
      "C:\\Users\\Ahmad\\AppData\\Local\\Temp\\ipykernel_15264\\3970437099.py:10: FutureWarning: Passing literal html to 'read_html' is deprecated and will be removed in a future version. To read from a literal string, wrap it in a 'StringIO' object.\n",
      "  gsw = pd.read_html(str(tvop_table))[0]\n",
      "C:\\Users\\Ahmad\\AppData\\Local\\Temp\\ipykernel_15264\\3970437099.py:10: FutureWarning: Passing literal html to 'read_html' is deprecated and will be removed in a future version. To read from a literal string, wrap it in a 'StringIO' object.\n",
      "  gsw = pd.read_html(str(tvop_table))[0]\n",
      "C:\\Users\\Ahmad\\AppData\\Local\\Temp\\ipykernel_15264\\3970437099.py:10: FutureWarning: Passing literal html to 'read_html' is deprecated and will be removed in a future version. To read from a literal string, wrap it in a 'StringIO' object.\n",
      "  gsw = pd.read_html(str(tvop_table))[0]\n",
      "C:\\Users\\Ahmad\\AppData\\Local\\Temp\\ipykernel_15264\\3970437099.py:10: FutureWarning: Passing literal html to 'read_html' is deprecated and will be removed in a future version. To read from a literal string, wrap it in a 'StringIO' object.\n",
      "  gsw = pd.read_html(str(tvop_table))[0]\n",
      "C:\\Users\\Ahmad\\AppData\\Local\\Temp\\ipykernel_15264\\3970437099.py:10: FutureWarning: Passing literal html to 'read_html' is deprecated and will be removed in a future version. To read from a literal string, wrap it in a 'StringIO' object.\n",
      "  gsw = pd.read_html(str(tvop_table))[0]\n",
      "C:\\Users\\Ahmad\\AppData\\Local\\Temp\\ipykernel_15264\\3970437099.py:10: FutureWarning: Passing literal html to 'read_html' is deprecated and will be removed in a future version. To read from a literal string, wrap it in a 'StringIO' object.\n",
      "  gsw = pd.read_html(str(tvop_table))[0]\n",
      "C:\\Users\\Ahmad\\AppData\\Local\\Temp\\ipykernel_15264\\3970437099.py:10: FutureWarning: Passing literal html to 'read_html' is deprecated and will be removed in a future version. To read from a literal string, wrap it in a 'StringIO' object.\n",
      "  gsw = pd.read_html(str(tvop_table))[0]\n",
      "C:\\Users\\Ahmad\\AppData\\Local\\Temp\\ipykernel_15264\\3970437099.py:10: FutureWarning: Passing literal html to 'read_html' is deprecated and will be removed in a future version. To read from a literal string, wrap it in a 'StringIO' object.\n",
      "  gsw = pd.read_html(str(tvop_table))[0]\n",
      "C:\\Users\\Ahmad\\AppData\\Local\\Temp\\ipykernel_15264\\3970437099.py:10: FutureWarning: Passing literal html to 'read_html' is deprecated and will be removed in a future version. To read from a literal string, wrap it in a 'StringIO' object.\n",
      "  gsw = pd.read_html(str(tvop_table))[0]\n",
      "C:\\Users\\Ahmad\\AppData\\Local\\Temp\\ipykernel_15264\\3970437099.py:10: FutureWarning: Passing literal html to 'read_html' is deprecated and will be removed in a future version. To read from a literal string, wrap it in a 'StringIO' object.\n",
      "  gsw = pd.read_html(str(tvop_table))[0]\n",
      "C:\\Users\\Ahmad\\AppData\\Local\\Temp\\ipykernel_15264\\3970437099.py:10: FutureWarning: Passing literal html to 'read_html' is deprecated and will be removed in a future version. To read from a literal string, wrap it in a 'StringIO' object.\n",
      "  gsw = pd.read_html(str(tvop_table))[0]\n"
     ]
    }
   ],
   "source": [
    "\n",
    "import pandas as pd\n",
    "from bs4 import BeautifulSoup\n",
    "years = list(range(2010,2021))\n",
    "dfs = []\n",
    "for year in years:\n",
    "    with open(\"HEAT_HTML/{}.html\".format(year), \"rb\") as f:\n",
    "        page = f.read()\n",
    "    soup = BeautifulSoup(page, \"html.parser\")\n",
    "    tvop_table = soup.find(id=\"team_and_opponent\")\n",
    "    gsw = pd.read_html(str(tvop_table))[0]\n",
    "    gsw[\"year\"] = year\n",
    "\n",
    "    dfs.append(gsw)\n",
    "\n",
    "# Concatenate all DataFrames into a single DataFrame\n",
    "final_df = pd.concat(dfs, ignore_index=True)\n",
    "\n",
    "# Save the concatenated DataFrame to a CSV file\n",
    "final_df.to_csv(\"heat_team_and_opponent.csv\", index=False)\n"
   ]
  },
  {
   "cell_type": "code",
   "execution_count": 18,
   "id": "fb60303b-d60a-4cb2-ae9b-e9e929d0e57f",
   "metadata": {},
   "outputs": [
    {
     "name": "stderr",
     "output_type": "stream",
     "text": [
      "C:\\Users\\Ahmad\\AppData\\Local\\Temp\\ipykernel_15264\\1796418090.py:10: FutureWarning: Passing literal html to 'read_html' is deprecated and will be removed in a future version. To read from a literal string, wrap it in a 'StringIO' object.\n",
      "  gsw = pd.read_html(str(tvop_table))[0]\n",
      "C:\\Users\\Ahmad\\AppData\\Local\\Temp\\ipykernel_15264\\1796418090.py:10: FutureWarning: Passing literal html to 'read_html' is deprecated and will be removed in a future version. To read from a literal string, wrap it in a 'StringIO' object.\n",
      "  gsw = pd.read_html(str(tvop_table))[0]\n",
      "C:\\Users\\Ahmad\\AppData\\Local\\Temp\\ipykernel_15264\\1796418090.py:10: FutureWarning: Passing literal html to 'read_html' is deprecated and will be removed in a future version. To read from a literal string, wrap it in a 'StringIO' object.\n",
      "  gsw = pd.read_html(str(tvop_table))[0]\n",
      "C:\\Users\\Ahmad\\AppData\\Local\\Temp\\ipykernel_15264\\1796418090.py:10: FutureWarning: Passing literal html to 'read_html' is deprecated and will be removed in a future version. To read from a literal string, wrap it in a 'StringIO' object.\n",
      "  gsw = pd.read_html(str(tvop_table))[0]\n",
      "C:\\Users\\Ahmad\\AppData\\Local\\Temp\\ipykernel_15264\\1796418090.py:10: FutureWarning: Passing literal html to 'read_html' is deprecated and will be removed in a future version. To read from a literal string, wrap it in a 'StringIO' object.\n",
      "  gsw = pd.read_html(str(tvop_table))[0]\n",
      "C:\\Users\\Ahmad\\AppData\\Local\\Temp\\ipykernel_15264\\1796418090.py:10: FutureWarning: Passing literal html to 'read_html' is deprecated and will be removed in a future version. To read from a literal string, wrap it in a 'StringIO' object.\n",
      "  gsw = pd.read_html(str(tvop_table))[0]\n",
      "C:\\Users\\Ahmad\\AppData\\Local\\Temp\\ipykernel_15264\\1796418090.py:10: FutureWarning: Passing literal html to 'read_html' is deprecated and will be removed in a future version. To read from a literal string, wrap it in a 'StringIO' object.\n",
      "  gsw = pd.read_html(str(tvop_table))[0]\n",
      "C:\\Users\\Ahmad\\AppData\\Local\\Temp\\ipykernel_15264\\1796418090.py:10: FutureWarning: Passing literal html to 'read_html' is deprecated and will be removed in a future version. To read from a literal string, wrap it in a 'StringIO' object.\n",
      "  gsw = pd.read_html(str(tvop_table))[0]\n",
      "C:\\Users\\Ahmad\\AppData\\Local\\Temp\\ipykernel_15264\\1796418090.py:10: FutureWarning: Passing literal html to 'read_html' is deprecated and will be removed in a future version. To read from a literal string, wrap it in a 'StringIO' object.\n",
      "  gsw = pd.read_html(str(tvop_table))[0]\n",
      "C:\\Users\\Ahmad\\AppData\\Local\\Temp\\ipykernel_15264\\1796418090.py:10: FutureWarning: Passing literal html to 'read_html' is deprecated and will be removed in a future version. To read from a literal string, wrap it in a 'StringIO' object.\n",
      "  gsw = pd.read_html(str(tvop_table))[0]\n",
      "C:\\Users\\Ahmad\\AppData\\Local\\Temp\\ipykernel_15264\\1796418090.py:10: FutureWarning: Passing literal html to 'read_html' is deprecated and will be removed in a future version. To read from a literal string, wrap it in a 'StringIO' object.\n",
      "  gsw = pd.read_html(str(tvop_table))[0]\n"
     ]
    }
   ],
   "source": [
    "\n",
    "import pandas as pd\n",
    "from bs4 import BeautifulSoup\n",
    "years = list(range(2010,2021))\n",
    "dfs = []\n",
    "for year in years:\n",
    "    with open(\"HEAT_HTML/{}.html\".format(year), \"rb\") as f:\n",
    "        page = f.read()\n",
    "    soup = BeautifulSoup(page, \"html.parser\")\n",
    "    tvop_table = soup.find(id=\"per_game\")\n",
    "    gsw = pd.read_html(str(tvop_table))[0]\n",
    "    gsw[\"year\"] = year\n",
    "\n",
    "    dfs.append(gsw)\n",
    "\n",
    "# Concatenate all DataFrames into a single DataFrame\n",
    "final_df = pd.concat(dfs, ignore_index=True)\n",
    "\n",
    "# Save the concatenated DataFrame to a CSV file\n",
    "final_df.to_csv(\"heat_per_game.csv\", index=False)\n"
   ]
  },
  {
   "cell_type": "code",
   "execution_count": 19,
   "id": "0a48363a-1846-4caa-a67b-eeef2189af0a",
   "metadata": {},
   "outputs": [
    {
     "name": "stderr",
     "output_type": "stream",
     "text": [
      "C:\\Users\\Ahmad\\AppData\\Local\\Temp\\ipykernel_15264\\2215623811.py:10: FutureWarning: Passing literal html to 'read_html' is deprecated and will be removed in a future version. To read from a literal string, wrap it in a 'StringIO' object.\n",
      "  gsw = pd.read_html(str(tvop_table))[0]\n",
      "C:\\Users\\Ahmad\\AppData\\Local\\Temp\\ipykernel_15264\\2215623811.py:10: FutureWarning: Passing literal html to 'read_html' is deprecated and will be removed in a future version. To read from a literal string, wrap it in a 'StringIO' object.\n",
      "  gsw = pd.read_html(str(tvop_table))[0]\n",
      "C:\\Users\\Ahmad\\AppData\\Local\\Temp\\ipykernel_15264\\2215623811.py:10: FutureWarning: Passing literal html to 'read_html' is deprecated and will be removed in a future version. To read from a literal string, wrap it in a 'StringIO' object.\n",
      "  gsw = pd.read_html(str(tvop_table))[0]\n",
      "C:\\Users\\Ahmad\\AppData\\Local\\Temp\\ipykernel_15264\\2215623811.py:10: FutureWarning: Passing literal html to 'read_html' is deprecated and will be removed in a future version. To read from a literal string, wrap it in a 'StringIO' object.\n",
      "  gsw = pd.read_html(str(tvop_table))[0]\n",
      "C:\\Users\\Ahmad\\AppData\\Local\\Temp\\ipykernel_15264\\2215623811.py:10: FutureWarning: Passing literal html to 'read_html' is deprecated and will be removed in a future version. To read from a literal string, wrap it in a 'StringIO' object.\n",
      "  gsw = pd.read_html(str(tvop_table))[0]\n",
      "C:\\Users\\Ahmad\\AppData\\Local\\Temp\\ipykernel_15264\\2215623811.py:10: FutureWarning: Passing literal html to 'read_html' is deprecated and will be removed in a future version. To read from a literal string, wrap it in a 'StringIO' object.\n",
      "  gsw = pd.read_html(str(tvop_table))[0]\n",
      "C:\\Users\\Ahmad\\AppData\\Local\\Temp\\ipykernel_15264\\2215623811.py:10: FutureWarning: Passing literal html to 'read_html' is deprecated and will be removed in a future version. To read from a literal string, wrap it in a 'StringIO' object.\n",
      "  gsw = pd.read_html(str(tvop_table))[0]\n",
      "C:\\Users\\Ahmad\\AppData\\Local\\Temp\\ipykernel_15264\\2215623811.py:10: FutureWarning: Passing literal html to 'read_html' is deprecated and will be removed in a future version. To read from a literal string, wrap it in a 'StringIO' object.\n",
      "  gsw = pd.read_html(str(tvop_table))[0]\n",
      "C:\\Users\\Ahmad\\AppData\\Local\\Temp\\ipykernel_15264\\2215623811.py:10: FutureWarning: Passing literal html to 'read_html' is deprecated and will be removed in a future version. To read from a literal string, wrap it in a 'StringIO' object.\n",
      "  gsw = pd.read_html(str(tvop_table))[0]\n",
      "C:\\Users\\Ahmad\\AppData\\Local\\Temp\\ipykernel_15264\\2215623811.py:10: FutureWarning: Passing literal html to 'read_html' is deprecated and will be removed in a future version. To read from a literal string, wrap it in a 'StringIO' object.\n",
      "  gsw = pd.read_html(str(tvop_table))[0]\n",
      "C:\\Users\\Ahmad\\AppData\\Local\\Temp\\ipykernel_15264\\2215623811.py:10: FutureWarning: Passing literal html to 'read_html' is deprecated and will be removed in a future version. To read from a literal string, wrap it in a 'StringIO' object.\n",
      "  gsw = pd.read_html(str(tvop_table))[0]\n"
     ]
    }
   ],
   "source": [
    "\n",
    "import pandas as pd\n",
    "from bs4 import BeautifulSoup\n",
    "years = list(range(2010,2021))\n",
    "dfs = []\n",
    "for year in years:\n",
    "    with open(\"HEAT_HTML/{}.html\".format(year), \"rb\") as f:\n",
    "        page = f.read()\n",
    "    soup = BeautifulSoup(page, \"html.parser\")\n",
    "    tvop_table = soup.find(id=\"shooting\")\n",
    "    gsw = pd.read_html(str(tvop_table))[0]\n",
    "    gsw[\"year\"] = year\n",
    "\n",
    "    dfs.append(gsw)\n",
    "\n",
    "# Concatenate all DataFrames into a single DataFrame\n",
    "final_df = pd.concat(dfs, ignore_index=True)\n",
    "\n",
    "# Save the concatenated DataFrame to a CSV file\n",
    "final_df.to_csv(\"heat_shooting.csv\", index=False)\n"
   ]
  },
  {
   "cell_type": "code",
   "execution_count": null,
   "id": "a50060fd-a06c-4dab-8270-facd6a834e55",
   "metadata": {},
   "outputs": [],
   "source": []
  }
 ],
 "metadata": {
  "kernelspec": {
   "display_name": "Python 3 (ipykernel)",
   "language": "python",
   "name": "python3"
  },
  "language_info": {
   "codemirror_mode": {
    "name": "ipython",
    "version": 3
   },
   "file_extension": ".py",
   "mimetype": "text/x-python",
   "name": "python",
   "nbconvert_exporter": "python",
   "pygments_lexer": "ipython3",
   "version": "3.11.5"
  }
 },
 "nbformat": 4,
 "nbformat_minor": 5
}
